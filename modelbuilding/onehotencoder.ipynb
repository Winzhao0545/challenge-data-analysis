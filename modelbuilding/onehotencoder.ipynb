{
 "cells": [
  {
   "cell_type": "code",
   "execution_count": 158,
   "metadata": {},
   "outputs": [],
   "source": [
    "import pandas as pd\n",
    "import numpy as np\n",
    "from sklearn.model_selection import train_test_split \n",
    "from sklearn.linear_model import LinearRegression \n",
    "from sklearn.preprocessing import OneHotEncoder,MinMaxScaler\n",
    "from sklearn.compose import ColumnTransformer,make_column_transformer\n",
    "from sklearn.pipeline import Pipeline,make_pipeline"
   ]
  },
  {
   "cell_type": "code",
   "execution_count": 159,
   "metadata": {},
   "outputs": [
    {
     "data": {
      "text/html": [
       "<div>\n",
       "<style scoped>\n",
       "    .dataframe tbody tr th:only-of-type {\n",
       "        vertical-align: middle;\n",
       "    }\n",
       "\n",
       "    .dataframe tbody tr th {\n",
       "        vertical-align: top;\n",
       "    }\n",
       "\n",
       "    .dataframe thead th {\n",
       "        text-align: right;\n",
       "    }\n",
       "</style>\n",
       "<table border=\"1\" class=\"dataframe\">\n",
       "  <thead>\n",
       "    <tr style=\"text-align: right;\">\n",
       "      <th></th>\n",
       "      <th>region</th>\n",
       "      <th>province</th>\n",
       "      <th>zip_code</th>\n",
       "      <th>property_type</th>\n",
       "      <th>property_subtype</th>\n",
       "      <th>price</th>\n",
       "      <th>number_rooms</th>\n",
       "      <th>living_area</th>\n",
       "      <th>kitchen</th>\n",
       "      <th>furnished</th>\n",
       "      <th>fireplace</th>\n",
       "      <th>terrace</th>\n",
       "      <th>terrace_area</th>\n",
       "      <th>garden</th>\n",
       "      <th>garden_area</th>\n",
       "      <th>surface_land</th>\n",
       "      <th>number_facades</th>\n",
       "      <th>swimming_pool</th>\n",
       "      <th>building_state</th>\n",
       "    </tr>\n",
       "  </thead>\n",
       "  <tbody>\n",
       "    <tr>\n",
       "      <th>0</th>\n",
       "      <td>Flanders</td>\n",
       "      <td>Flemish Brabant</td>\n",
       "      <td>1970</td>\n",
       "      <td>HOUSE</td>\n",
       "      <td>HOUSE</td>\n",
       "      <td>460000.0</td>\n",
       "      <td>3.0</td>\n",
       "      <td>120.000000</td>\n",
       "      <td>USA_HYPER_EQUIPPED</td>\n",
       "      <td>0</td>\n",
       "      <td>0</td>\n",
       "      <td>1</td>\n",
       "      <td>20.000000</td>\n",
       "      <td>1</td>\n",
       "      <td>110.0</td>\n",
       "      <td>227.000000</td>\n",
       "      <td>2.0</td>\n",
       "      <td>0</td>\n",
       "      <td>GOOD</td>\n",
       "    </tr>\n",
       "    <tr>\n",
       "      <th>1</th>\n",
       "      <td>Brussels</td>\n",
       "      <td>Brussels</td>\n",
       "      <td>1150</td>\n",
       "      <td>HOUSE</td>\n",
       "      <td>HOUSE</td>\n",
       "      <td>599000.0</td>\n",
       "      <td>4.0</td>\n",
       "      <td>203.000000</td>\n",
       "      <td>INSTALLED</td>\n",
       "      <td>0</td>\n",
       "      <td>0</td>\n",
       "      <td>1</td>\n",
       "      <td>0.000000</td>\n",
       "      <td>1</td>\n",
       "      <td>50.0</td>\n",
       "      <td>258.000000</td>\n",
       "      <td>3.0</td>\n",
       "      <td>0</td>\n",
       "      <td>GOOD</td>\n",
       "    </tr>\n",
       "    <tr>\n",
       "      <th>2</th>\n",
       "      <td>Flanders</td>\n",
       "      <td>Antwerp</td>\n",
       "      <td>2970</td>\n",
       "      <td>HOUSE</td>\n",
       "      <td>HOUSE</td>\n",
       "      <td>655000.0</td>\n",
       "      <td>2.0</td>\n",
       "      <td>235.000000</td>\n",
       "      <td>INSTALLED</td>\n",
       "      <td>0</td>\n",
       "      <td>0</td>\n",
       "      <td>0</td>\n",
       "      <td>0.000000</td>\n",
       "      <td>0</td>\n",
       "      <td>0.0</td>\n",
       "      <td>930.000000</td>\n",
       "      <td>4.0</td>\n",
       "      <td>0</td>\n",
       "      <td>AS_NEW</td>\n",
       "    </tr>\n",
       "    <tr>\n",
       "      <th>3</th>\n",
       "      <td>Brussels</td>\n",
       "      <td>Brussels</td>\n",
       "      <td>1000</td>\n",
       "      <td>HOUSE</td>\n",
       "      <td>MIXED_USE_BUILDING</td>\n",
       "      <td>1475000.0</td>\n",
       "      <td>6.0</td>\n",
       "      <td>518.000000</td>\n",
       "      <td>NOT_INSTALLED</td>\n",
       "      <td>0</td>\n",
       "      <td>0</td>\n",
       "      <td>1</td>\n",
       "      <td>74.041614</td>\n",
       "      <td>1</td>\n",
       "      <td>200.0</td>\n",
       "      <td>330.000000</td>\n",
       "      <td>2.0</td>\n",
       "      <td>0</td>\n",
       "      <td>TO_RENOVATE</td>\n",
       "    </tr>\n",
       "    <tr>\n",
       "      <th>4</th>\n",
       "      <td>Wallonie</td>\n",
       "      <td>Liège</td>\n",
       "      <td>4500</td>\n",
       "      <td>HOUSE</td>\n",
       "      <td>HOUSE</td>\n",
       "      <td>149500.0</td>\n",
       "      <td>3.0</td>\n",
       "      <td>100.000000</td>\n",
       "      <td>SEMI_EQUIPPED</td>\n",
       "      <td>0</td>\n",
       "      <td>0</td>\n",
       "      <td>0</td>\n",
       "      <td>0.000000</td>\n",
       "      <td>0</td>\n",
       "      <td>0.0</td>\n",
       "      <td>265.000000</td>\n",
       "      <td>3.0</td>\n",
       "      <td>0</td>\n",
       "      <td>GOOD</td>\n",
       "    </tr>\n",
       "    <tr>\n",
       "      <th>...</th>\n",
       "      <td>...</td>\n",
       "      <td>...</td>\n",
       "      <td>...</td>\n",
       "      <td>...</td>\n",
       "      <td>...</td>\n",
       "      <td>...</td>\n",
       "      <td>...</td>\n",
       "      <td>...</td>\n",
       "      <td>...</td>\n",
       "      <td>...</td>\n",
       "      <td>...</td>\n",
       "      <td>...</td>\n",
       "      <td>...</td>\n",
       "      <td>...</td>\n",
       "      <td>...</td>\n",
       "      <td>...</td>\n",
       "      <td>...</td>\n",
       "      <td>...</td>\n",
       "      <td>...</td>\n",
       "    </tr>\n",
       "    <tr>\n",
       "      <th>16467</th>\n",
       "      <td>Flanders</td>\n",
       "      <td>East Flanders</td>\n",
       "      <td>9600</td>\n",
       "      <td>HOUSE</td>\n",
       "      <td>HOUSE</td>\n",
       "      <td>167950.0</td>\n",
       "      <td>2.0</td>\n",
       "      <td>209.515373</td>\n",
       "      <td>NOT_INSTALLED</td>\n",
       "      <td>0</td>\n",
       "      <td>0</td>\n",
       "      <td>0</td>\n",
       "      <td>0.000000</td>\n",
       "      <td>0</td>\n",
       "      <td>0.0</td>\n",
       "      <td>80.000000</td>\n",
       "      <td>2.0</td>\n",
       "      <td>0</td>\n",
       "      <td>GOOD</td>\n",
       "    </tr>\n",
       "    <tr>\n",
       "      <th>16468</th>\n",
       "      <td>Flanders</td>\n",
       "      <td>West Flanders</td>\n",
       "      <td>8500</td>\n",
       "      <td>HOUSE</td>\n",
       "      <td>HOUSE</td>\n",
       "      <td>162000.0</td>\n",
       "      <td>2.0</td>\n",
       "      <td>209.515373</td>\n",
       "      <td>NOT_INSTALLED</td>\n",
       "      <td>0</td>\n",
       "      <td>0</td>\n",
       "      <td>1</td>\n",
       "      <td>0.000000</td>\n",
       "      <td>0</td>\n",
       "      <td>0.0</td>\n",
       "      <td>139.000000</td>\n",
       "      <td>2.0</td>\n",
       "      <td>0</td>\n",
       "      <td>0</td>\n",
       "    </tr>\n",
       "    <tr>\n",
       "      <th>16469</th>\n",
       "      <td>Wallonie</td>\n",
       "      <td>Namur</td>\n",
       "      <td>5530</td>\n",
       "      <td>HOUSE</td>\n",
       "      <td>HOUSE</td>\n",
       "      <td>269000.0</td>\n",
       "      <td>3.0</td>\n",
       "      <td>106.000000</td>\n",
       "      <td>SEMI_EQUIPPED</td>\n",
       "      <td>0</td>\n",
       "      <td>0</td>\n",
       "      <td>0</td>\n",
       "      <td>0.000000</td>\n",
       "      <td>1</td>\n",
       "      <td>454.0</td>\n",
       "      <td>529.000000</td>\n",
       "      <td>4.0</td>\n",
       "      <td>0</td>\n",
       "      <td>0</td>\n",
       "    </tr>\n",
       "    <tr>\n",
       "      <th>16470</th>\n",
       "      <td>Flanders</td>\n",
       "      <td>Limburg</td>\n",
       "      <td>3850</td>\n",
       "      <td>HOUSE</td>\n",
       "      <td>HOUSE</td>\n",
       "      <td>629000.0</td>\n",
       "      <td>5.0</td>\n",
       "      <td>313.000000</td>\n",
       "      <td>HYPER_EQUIPPED</td>\n",
       "      <td>0</td>\n",
       "      <td>0</td>\n",
       "      <td>0</td>\n",
       "      <td>0.000000</td>\n",
       "      <td>0</td>\n",
       "      <td>0.0</td>\n",
       "      <td>8520.784087</td>\n",
       "      <td>4.0</td>\n",
       "      <td>0</td>\n",
       "      <td>0</td>\n",
       "    </tr>\n",
       "    <tr>\n",
       "      <th>16471</th>\n",
       "      <td>Wallonie</td>\n",
       "      <td>Liège</td>\n",
       "      <td>4020</td>\n",
       "      <td>HOUSE</td>\n",
       "      <td>HOUSE</td>\n",
       "      <td>259000.0</td>\n",
       "      <td>2.0</td>\n",
       "      <td>90.000000</td>\n",
       "      <td>SEMI_EQUIPPED</td>\n",
       "      <td>0</td>\n",
       "      <td>0</td>\n",
       "      <td>1</td>\n",
       "      <td>25.000000</td>\n",
       "      <td>1</td>\n",
       "      <td>155.0</td>\n",
       "      <td>300.000000</td>\n",
       "      <td>3.0</td>\n",
       "      <td>0</td>\n",
       "      <td>JUST_RENOVATED</td>\n",
       "    </tr>\n",
       "  </tbody>\n",
       "</table>\n",
       "<p>16472 rows × 19 columns</p>\n",
       "</div>"
      ],
      "text/plain": [
       "         region         province zip_code property_type    property_subtype  \\\n",
       "0      Flanders  Flemish Brabant     1970         HOUSE               HOUSE   \n",
       "1      Brussels         Brussels     1150         HOUSE               HOUSE   \n",
       "2      Flanders          Antwerp     2970         HOUSE               HOUSE   \n",
       "3      Brussels         Brussels     1000         HOUSE  MIXED_USE_BUILDING   \n",
       "4      Wallonie            Liège     4500         HOUSE               HOUSE   \n",
       "...         ...              ...      ...           ...                 ...   \n",
       "16467  Flanders    East Flanders     9600         HOUSE               HOUSE   \n",
       "16468  Flanders    West Flanders     8500         HOUSE               HOUSE   \n",
       "16469  Wallonie            Namur     5530         HOUSE               HOUSE   \n",
       "16470  Flanders          Limburg     3850         HOUSE               HOUSE   \n",
       "16471  Wallonie            Liège     4020         HOUSE               HOUSE   \n",
       "\n",
       "           price  number_rooms  living_area             kitchen  furnished  \\\n",
       "0       460000.0           3.0   120.000000  USA_HYPER_EQUIPPED          0   \n",
       "1       599000.0           4.0   203.000000           INSTALLED          0   \n",
       "2       655000.0           2.0   235.000000           INSTALLED          0   \n",
       "3      1475000.0           6.0   518.000000       NOT_INSTALLED          0   \n",
       "4       149500.0           3.0   100.000000       SEMI_EQUIPPED          0   \n",
       "...          ...           ...          ...                 ...        ...   \n",
       "16467   167950.0           2.0   209.515373       NOT_INSTALLED          0   \n",
       "16468   162000.0           2.0   209.515373       NOT_INSTALLED          0   \n",
       "16469   269000.0           3.0   106.000000       SEMI_EQUIPPED          0   \n",
       "16470   629000.0           5.0   313.000000      HYPER_EQUIPPED          0   \n",
       "16471   259000.0           2.0    90.000000       SEMI_EQUIPPED          0   \n",
       "\n",
       "       fireplace  terrace  terrace_area  garden  garden_area  surface_land  \\\n",
       "0              0        1     20.000000       1        110.0    227.000000   \n",
       "1              0        1      0.000000       1         50.0    258.000000   \n",
       "2              0        0      0.000000       0          0.0    930.000000   \n",
       "3              0        1     74.041614       1        200.0    330.000000   \n",
       "4              0        0      0.000000       0          0.0    265.000000   \n",
       "...          ...      ...           ...     ...          ...           ...   \n",
       "16467          0        0      0.000000       0          0.0     80.000000   \n",
       "16468          0        1      0.000000       0          0.0    139.000000   \n",
       "16469          0        0      0.000000       1        454.0    529.000000   \n",
       "16470          0        0      0.000000       0          0.0   8520.784087   \n",
       "16471          0        1     25.000000       1        155.0    300.000000   \n",
       "\n",
       "       number_facades  swimming_pool  building_state  \n",
       "0                 2.0              0            GOOD  \n",
       "1                 3.0              0            GOOD  \n",
       "2                 4.0              0          AS_NEW  \n",
       "3                 2.0              0     TO_RENOVATE  \n",
       "4                 3.0              0            GOOD  \n",
       "...               ...            ...             ...  \n",
       "16467             2.0              0            GOOD  \n",
       "16468             2.0              0               0  \n",
       "16469             4.0              0               0  \n",
       "16470             4.0              0               0  \n",
       "16471             3.0              0  JUST_RENOVATED  \n",
       "\n",
       "[16472 rows x 19 columns]"
      ]
     },
     "execution_count": 159,
     "metadata": {},
     "output_type": "execute_result"
    }
   ],
   "source": [
    "df=pd.read_csv('data\\cleaned_1.csv')\n",
    "df=df.drop('Unnamed: 0',axis=1)\n",
    "df"
   ]
  },
  {
   "cell_type": "code",
   "execution_count": 160,
   "metadata": {},
   "outputs": [
    {
     "name": "stdout",
     "output_type": "stream",
     "text": [
      "<class 'pandas.core.frame.DataFrame'>\n",
      "RangeIndex: 16472 entries, 0 to 16471\n",
      "Data columns (total 19 columns):\n",
      " #   Column            Non-Null Count  Dtype  \n",
      "---  ------            --------------  -----  \n",
      " 0   region            16472 non-null  object \n",
      " 1   province          16472 non-null  object \n",
      " 2   zip_code          16472 non-null  object \n",
      " 3   property_type     16472 non-null  object \n",
      " 4   property_subtype  16472 non-null  object \n",
      " 5   price             16472 non-null  float64\n",
      " 6   number_rooms      16472 non-null  float64\n",
      " 7   living_area       16472 non-null  float64\n",
      " 8   kitchen           16472 non-null  object \n",
      " 9   furnished         16472 non-null  int64  \n",
      " 10  fireplace         16472 non-null  int64  \n",
      " 11  terrace           16472 non-null  int64  \n",
      " 12  terrace_area      16472 non-null  float64\n",
      " 13  garden            16472 non-null  int64  \n",
      " 14  garden_area       16472 non-null  float64\n",
      " 15  surface_land      16472 non-null  float64\n",
      " 16  number_facades    16472 non-null  float64\n",
      " 17  swimming_pool     16472 non-null  int64  \n",
      " 18  building_state    16472 non-null  object \n",
      "dtypes: float64(7), int64(5), object(7)\n",
      "memory usage: 2.4+ MB\n"
     ]
    }
   ],
   "source": [
    "df.info()"
   ]
  },
  {
   "cell_type": "markdown",
   "metadata": {},
   "source": [
    "Location is very important for the price prodiction, so check abnormal values to remove"
   ]
  },
  {
   "cell_type": "code",
   "execution_count": 161,
   "metadata": {},
   "outputs": [
    {
     "data": {
      "text/plain": [
       "array(['Flanders', 'Brussels', 'Wallonie', '0'], dtype=object)"
      ]
     },
     "execution_count": 161,
     "metadata": {},
     "output_type": "execute_result"
    }
   ],
   "source": [
    "df['region'].unique()"
   ]
  },
  {
   "cell_type": "code",
   "execution_count": 162,
   "metadata": {},
   "outputs": [
    {
     "data": {
      "text/plain": [
       "region\n",
       "Flanders    9032\n",
       "Wallonie    5529\n",
       "Brussels    1800\n",
       "Name: count, dtype: int64"
      ]
     },
     "execution_count": 162,
     "metadata": {},
     "output_type": "execute_result"
    }
   ],
   "source": [
    "#drop the rows of region that with 0 value\n",
    "df=df[df['region']!='0']\n",
    "df['region'].value_counts()"
   ]
  },
  {
   "cell_type": "code",
   "execution_count": 163,
   "metadata": {},
   "outputs": [
    {
     "data": {
      "text/plain": [
       "array(['Flemish Brabant', 'Brussels', 'Antwerp', 'Liège', 'Hainaut',\n",
       "       'West Flanders', 'East Flanders', 'Namur', 'Luxembourg',\n",
       "       'Walloon Brabant', 'Limburg'], dtype=object)"
      ]
     },
     "execution_count": 163,
     "metadata": {},
     "output_type": "execute_result"
    }
   ],
   "source": [
    "df['province'].unique()"
   ]
  },
  {
   "cell_type": "code",
   "execution_count": 164,
   "metadata": {},
   "outputs": [
    {
     "name": "stderr",
     "output_type": "stream",
     "text": [
      "C:\\Users\\frede_0021xgx\\AppData\\Local\\Temp\\ipykernel_12044\\1314125693.py:10: SettingWithCopyWarning: \n",
      "A value is trying to be set on a copy of a slice from a DataFrame.\n",
      "Try using .loc[row_indexer,col_indexer] = value instead\n",
      "\n",
      "See the caveats in the documentation: https://pandas.pydata.org/pandas-docs/stable/user_guide/indexing.html#returning-a-view-versus-a-copy\n",
      "  df[\"zip_code\"] = df[\"zip_code\"].apply(convert_zipcode)\n",
      "C:\\Users\\frede_0021xgx\\AppData\\Local\\Temp\\ipykernel_12044\\1314125693.py:11: SettingWithCopyWarning: \n",
      "A value is trying to be set on a copy of a slice from a DataFrame.\n",
      "Try using .loc[row_indexer,col_indexer] = value instead\n",
      "\n",
      "See the caveats in the documentation: https://pandas.pydata.org/pandas-docs/stable/user_guide/indexing.html#returning-a-view-versus-a-copy\n",
      "  df[\"zip_code\"]=df[\"zip_code\"]/100\n",
      "C:\\Users\\frede_0021xgx\\AppData\\Local\\Temp\\ipykernel_12044\\1314125693.py:12: SettingWithCopyWarning: \n",
      "A value is trying to be set on a copy of a slice from a DataFrame.\n",
      "Try using .loc[row_indexer,col_indexer] = value instead\n",
      "\n",
      "See the caveats in the documentation: https://pandas.pydata.org/pandas-docs/stable/user_guide/indexing.html#returning-a-view-versus-a-copy\n",
      "  df[\"zip_code\"]=df[\"zip_code\"].round(0).astype(int)\n"
     ]
    },
    {
     "data": {
      "text/plain": [
       "array([ 20,  12,  30,  10,  45,  71,  88,  90,  87,  54,  68,  93,  13,\n",
       "        14,  56,  18,  19,  64,  62,  92,  38,  76,  67,  80,  70,  98,\n",
       "        84,  15,  86,  85,  34,  16,  82,  91,  49,  11,  41,  33,  48,\n",
       "        22,  29,  32,  69,  40,  61,  17,  44,  79,  53,  83,  60,  94,\n",
       "        95,  25,  47,  23,  31,  26,  50,  21,  89, 100,  36,  73,  28,\n",
       "        99,  51,  63,  57,  37,  46,  43,  97,  78,  39,  42,  35,  24,\n",
       "        52,  66,  55,  96,  75,  72,  74,  65,  77,  27])"
      ]
     },
     "execution_count": 164,
     "metadata": {},
     "output_type": "execute_result"
    }
   ],
   "source": [
    "# Converting the postal code to integer \n",
    "def convert_zipcode(zip_code):\n",
    "    \"\"\"function to convert the postal code to integer and handel value error\"\"\"\n",
    "    try:\n",
    "        return int(zip_code)\n",
    "    except ValueError:\n",
    "        return None\n",
    "\n",
    "# applying the above function to the column \"zip_code \"\n",
    "df[\"zip_code\"] = df[\"zip_code\"].apply(convert_zipcode)\n",
    "df[\"zip_code\"]=df[\"zip_code\"]/100\n",
    "df[\"zip_code\"]=df[\"zip_code\"].round(0).astype(int)\n",
    "df[\"zip_code\"].unique()\n"
   ]
  },
  {
   "cell_type": "markdown",
   "metadata": {},
   "source": [
    "Check another abnormal values"
   ]
  },
  {
   "cell_type": "code",
   "execution_count": 165,
   "metadata": {},
   "outputs": [
    {
     "data": {
      "text/plain": [
       "array(['HOUSE', 'APARTMENT'], dtype=object)"
      ]
     },
     "execution_count": 165,
     "metadata": {},
     "output_type": "execute_result"
    }
   ],
   "source": [
    "df['property_type'].unique()"
   ]
  },
  {
   "cell_type": "code",
   "execution_count": 166,
   "metadata": {},
   "outputs": [
    {
     "data": {
      "text/plain": [
       "array(['HOUSE', 'MIXED_USE_BUILDING', 'VILLA', 'EXCEPTIONAL_PROPERTY',\n",
       "       'CHALET', 'APARTMENT', 'TRIPLEX', 'APARTMENT_BLOCK',\n",
       "       'COUNTRY_COTTAGE', 'MANSION', 'FLAT_STUDIO', 'DUPLEX', 'CASTLE',\n",
       "       'BUNGALOW', 'GROUND_FLOOR', 'TOWN_HOUSE', 'PENTHOUSE',\n",
       "       'OTHER_PROPERTY', 'SERVICE_FLAT', 'MANOR_HOUSE', 'LOFT',\n",
       "       'FARMHOUSE', 'KOT'], dtype=object)"
      ]
     },
     "execution_count": 166,
     "metadata": {},
     "output_type": "execute_result"
    }
   ],
   "source": [
    "df['property_subtype'].unique()"
   ]
  },
  {
   "cell_type": "code",
   "execution_count": 167,
   "metadata": {},
   "outputs": [
    {
     "data": {
      "text/plain": [
       "array([120.        , 203.        , 235.        , 518.        ,\n",
       "       100.        , 154.        , 140.        , 127.        ,\n",
       "       206.        , 180.        , 130.        , 260.        ,\n",
       "       185.        , 148.        , 207.        , 135.        ,\n",
       "       167.        , 181.        , 300.        , 233.        ,\n",
       "       172.        , 445.        , 230.        , 240.        ,\n",
       "        60.        , 125.        , 126.        , 209.51537287,\n",
       "       143.        , 200.        , 209.        , 150.        ,\n",
       "        96.        , 264.        , 270.        ,  54.        ,\n",
       "        42.        ,  81.        , 166.        , 113.        ,\n",
       "        98.        , 177.        , 124.        ,  65.        ,\n",
       "       105.        , 115.        , 110.        , 215.        ,\n",
       "       286.        , 400.        , 315.        , 350.        ,\n",
       "       341.        , 225.        , 346.        , 305.        ,\n",
       "       210.        , 324.        , 599.72512009, 275.        ,\n",
       "       280.        , 363.        , 258.        , 369.        ,\n",
       "       330.        , 283.        ,  94.        , 224.        ,\n",
       "       109.        ,  69.        , 102.        ,  63.        ,\n",
       "        82.        ,  88.        ,  89.        , 323.        ,\n",
       "        36.        , 170.        , 144.        ,  72.        ,\n",
       "       122.        ,  74.        ,  87.        , 247.        ,\n",
       "        95.        , 156.        , 250.        ,  70.        ,\n",
       "       284.        , 134.        , 190.        , 278.        ,\n",
       "       165.        , 157.        , 160.        , 415.        ,\n",
       "       285.        , 237.        ,  67.        ,  92.        ,\n",
       "        86.        , 563.        , 246.        ,  85.        ,\n",
       "       267.        ,  80.        , 118.        , 197.        ,\n",
       "        75.        , 142.        , 145.        , 131.        ,\n",
       "       208.        , 221.        , 282.        , 295.        ,\n",
       "       136.        , 257.        , 139.        , 189.        ,\n",
       "       212.        , 182.        , 192.        , 175.        ,\n",
       "       320.        , 251.        , 220.        , 161.        ,\n",
       "       164.        , 191.        , 151.        , 153.        ,\n",
       "       365.        ,  58.        , 146.        ,  83.        ,\n",
       "       194.        , 163.        , 168.        , 169.        ,\n",
       "       104.        , 265.        , 218.        , 121.        ,\n",
       "       263.        ,  76.        , 234.        , 568.        ,\n",
       "       450.        , 464.        , 345.        , 524.        ,\n",
       "       425.        , 420.        , 319.        , 460.        ,\n",
       "       414.        , 548.        , 448.        , 371.        ,\n",
       "       509.        , 195.        , 211.        , 176.        ,\n",
       "       335.        ,  90.        ,  97.        ,  32.        ,\n",
       "       381.        , 500.        , 497.        , 577.        ,\n",
       "        93.        , 205.        , 132.        , 174.        ,\n",
       "       390.        , 422.        , 326.        , 297.        ,\n",
       "       377.        , 238.        ,  77.        , 186.        ,\n",
       "        73.        , 386.        , 138.        , 236.        ,\n",
       "       355.        , 255.        ,  35.        , 112.        ,\n",
       "       198.        , 273.        , 114.        , 232.        ,\n",
       "       242.        , 106.        , 123.        , 245.        ,\n",
       "       259.        , 155.        , 171.        , 274.        ,\n",
       "       214.        , 159.        , 173.        ,  61.        ,\n",
       "       532.        , 399.        , 370.        , 423.        ,\n",
       "       179.        , 268.        , 366.        , 507.        ,\n",
       "       360.        , 256.        , 228.        , 307.        ,\n",
       "       419.        , 222.        ,  64.        , 485.        ,\n",
       "       116.        , 162.        ,  55.        ,  71.        ,\n",
       "       348.        , 187.        , 304.        , 354.        ,\n",
       "       137.        , 152.        ,  56.        ,  34.        ,\n",
       "       467.        , 550.        , 107.        , 231.        ,\n",
       "       149.        , 217.        , 294.        ,  84.        ,\n",
       "       281.        ,  49.        ,  53.        , 343.        ,\n",
       "       158.        , 301.        , 216.        , 249.        ,\n",
       "       226.        , 129.        ,  48.        , 204.        ,\n",
       "       213.        , 254.        , 302.        , 290.        ,\n",
       "       331.        , 239.        ,  46.        , 530.        ,\n",
       "       253.        , 338.        ,  79.        , 178.        ,\n",
       "       119.        ,  68.        , 223.        , 276.        ,\n",
       "       184.        , 358.        ,  26.        , 340.        ,\n",
       "        52.        , 336.        , 514.        , 201.        ,\n",
       "       310.        , 405.        , 199.        , 133.        ,\n",
       "        66.        , 314.        , 227.        , 327.        ,\n",
       "       261.        ,  91.        , 252.        , 334.        ,\n",
       "       183.        , 505.        , 512.        , 291.        ,\n",
       "       101.        , 378.        , 103.        , 244.        ,\n",
       "       111.        , 248.        ,  59.        , 229.        ,\n",
       "       296.        , 147.        , 241.        , 462.        ,\n",
       "       299.        , 202.        , 490.        , 468.        ,\n",
       "       375.        , 325.        , 312.        , 383.        ,\n",
       "        41.        ,  18.        ,  40.        ,  37.        ,\n",
       "       272.        , 339.        , 452.        , 287.        ,\n",
       "       306.        ,  43.        ,  51.        , 588.        ,\n",
       "       262.        , 475.        , 495.        , 424.        ,\n",
       "       499.        , 128.        , 440.        ,  45.        ,\n",
       "       382.        , 269.        ,  62.        , 478.        ,\n",
       "       364.        , 292.        , 289.        , 288.        ,\n",
       "       321.        , 520.        ,  50.        , 435.        ,\n",
       "        27.        , 394.        , 196.        , 308.        ,\n",
       "       141.        , 188.        , 356.        , 480.        ,\n",
       "       117.        , 567.        , 329.        , 311.        ,\n",
       "       328.        , 476.        , 463.        , 379.        ,\n",
       "       392.        , 337.        ,  78.        , 421.        ,\n",
       "       361.        , 397.        , 387.        ,  44.        ,\n",
       "       557.        , 418.        , 395.        , 502.        ,\n",
       "       589.        , 219.        , 193.        , 316.        ,\n",
       "       367.        , 416.        , 108.        , 279.        ,\n",
       "       293.        , 298.        , 389.        , 372.        ,\n",
       "       580.        , 488.        , 526.        , 333.        ,\n",
       "       570.        , 357.        , 376.        ,  99.        ,\n",
       "        19.        , 540.        , 535.        ,  14.        ,\n",
       "        28.        , 474.        , 317.        , 380.        ,\n",
       "       430.        , 359.        , 581.        , 538.        ,\n",
       "       470.        , 523.        , 444.        , 344.        ,\n",
       "       571.        , 352.        , 492.        ,  23.        ,\n",
       "       431.        , 243.        , 303.        , 266.        ,\n",
       "       332.        , 388.        ,  33.        ,  30.        ,\n",
       "       313.        , 552.        , 385.        , 373.        ,\n",
       "       525.        , 398.        , 271.        ,  25.        ,\n",
       "       590.        ,  47.        , 455.        ,  21.        ,\n",
       "        22.        , 573.        , 585.        , 537.        ,\n",
       "       403.        , 277.        , 368.        , 482.        ,\n",
       "       413.        , 438.        , 469.        , 465.        ,\n",
       "       318.        , 441.        , 459.        , 411.        ,\n",
       "       322.        , 404.        , 353.        , 566.        ,\n",
       "       449.        , 515.        , 393.        , 309.        ,\n",
       "       407.        , 401.        ,  38.        , 473.        ,\n",
       "        57.        , 429.        , 451.        , 342.        ,\n",
       "       347.        , 408.        , 410.        ,  20.        ,\n",
       "       456.        , 498.        , 543.        ,  39.        ,\n",
       "        31.        , 458.        , 549.        , 529.        ,\n",
       "       594.        , 595.        , 560.        ,  24.        ,\n",
       "       454.        , 434.        , 433.        , 555.        ,\n",
       "       575.        , 542.        , 547.        , 516.        ,\n",
       "       447.        , 442.        , 513.        , 374.        ,\n",
       "       510.        , 544.        , 428.        , 443.        ,\n",
       "       384.        , 511.        , 501.        , 561.        ,\n",
       "       437.        , 351.        , 453.        , 583.        ,\n",
       "       558.        , 396.        , 494.        , 565.        ,\n",
       "       402.        , 493.        , 483.        , 409.        ,\n",
       "       556.        , 362.        , 536.        , 486.        ,\n",
       "       528.        , 562.        , 432.        , 349.        ,\n",
       "       554.        , 472.        ,  17.        , 496.        ,\n",
       "       534.        ,  12.        , 506.        , 572.        ,\n",
       "       569.        ,  15.        , 417.        , 597.        ,\n",
       "       391.        , 484.        , 426.        , 471.        ,\n",
       "       519.        , 446.        ,  29.        , 427.        ,\n",
       "       574.        , 559.        , 591.        , 553.        ,\n",
       "       539.        , 551.        , 439.        , 412.        ,\n",
       "       521.        , 533.        , 489.        ])"
      ]
     },
     "execution_count": 167,
     "metadata": {},
     "output_type": "execute_result"
    }
   ],
   "source": [
    "df['living_area'].unique()"
   ]
  },
  {
   "cell_type": "markdown",
   "metadata": {},
   "source": [
    "reduce the number of types of kitchen and build state "
   ]
  },
  {
   "cell_type": "code",
   "execution_count": 168,
   "metadata": {},
   "outputs": [
    {
     "data": {
      "text/plain": [
       "array(['USA_HYPER_EQUIPPED', 'INSTALLED', 'NOT_INSTALLED',\n",
       "       'SEMI_EQUIPPED', 'HYPER_EQUIPPED', 'USA_INSTALLED',\n",
       "       'USA_SEMI_EQUIPPED', 'USA_UNINSTALLED'], dtype=object)"
      ]
     },
     "execution_count": 168,
     "metadata": {},
     "output_type": "execute_result"
    }
   ],
   "source": [
    "#checking types of kitchen\n",
    "df['kitchen'].unique()"
   ]
  },
  {
   "cell_type": "code",
   "execution_count": 169,
   "metadata": {},
   "outputs": [
    {
     "name": "stderr",
     "output_type": "stream",
     "text": [
      "C:\\Users\\frede_0021xgx\\AppData\\Local\\Temp\\ipykernel_12044\\1618473523.py:2: SettingWithCopyWarning: \n",
      "A value is trying to be set on a copy of a slice from a DataFrame.\n",
      "Try using .loc[row_indexer,col_indexer] = value instead\n",
      "\n",
      "See the caveats in the documentation: https://pandas.pydata.org/pandas-docs/stable/user_guide/indexing.html#returning-a-view-versus-a-copy\n",
      "  df['kitchen']=df['kitchen'].replace({'USA_HYPER_EQUIPPED':'EQUIPED','SEMI_EQUIPPED':'EQUIPED',\n"
     ]
    },
    {
     "data": {
      "text/plain": [
       "array(['EQUIPED', 'INSTALLED', 'NOT_INSTALLED'], dtype=object)"
      ]
     },
     "execution_count": 169,
     "metadata": {},
     "output_type": "execute_result"
    }
   ],
   "source": [
    "#reduce to 3 values\n",
    "df['kitchen']=df['kitchen'].replace({'USA_HYPER_EQUIPPED':'EQUIPED','SEMI_EQUIPPED':'EQUIPED',\n",
    "                          'HYPER_EQUIPPED':'EQUIPED','HYPER_EQUIPPED':'EQUIPED','USA_SEMI_EQUIPPED':'EQUIPED',\n",
    "                          'USA_INSTALLED':'INSTALLED','USA_UNINSTALLED':'NOT_INSTALLED'})\n",
    "\n",
    "df['kitchen'].unique()"
   ]
  },
  {
   "cell_type": "code",
   "execution_count": 170,
   "metadata": {},
   "outputs": [
    {
     "name": "stderr",
     "output_type": "stream",
     "text": [
      "C:\\Users\\frede_0021xgx\\AppData\\Local\\Temp\\ipykernel_12044\\1341711992.py:4: SettingWithCopyWarning: \n",
      "A value is trying to be set on a copy of a slice from a DataFrame.\n",
      "Try using .loc[row_indexer,col_indexer] = value instead\n",
      "\n",
      "See the caveats in the documentation: https://pandas.pydata.org/pandas-docs/stable/user_guide/indexing.html#returning-a-view-versus-a-copy\n",
      "  df['building_state']=df['building_state'].replace({'TO_RESTORE':'TO_RENOVATE','JUST_RENOVATED':'AS_NEW',\n"
     ]
    },
    {
     "data": {
      "text/plain": [
       "array(['GOOD', 'AS_NEW', 'TO_RENOVATE', 'UNKNOWN'], dtype=object)"
      ]
     },
     "execution_count": 170,
     "metadata": {},
     "output_type": "execute_result"
    }
   ],
   "source": [
    "#checking types of building_state\n",
    "df['building_state'].unique()\n",
    "#reduce to 3 values\n",
    "df['building_state']=df['building_state'].replace({'TO_RESTORE':'TO_RENOVATE','JUST_RENOVATED':'AS_NEW',\n",
    "                          'TO_BE_DONE_UP':'TO_RENOVATE','0':'UNKNOWN'})\n",
    "\n",
    "df['building_state'].unique()"
   ]
  },
  {
   "cell_type": "code",
   "execution_count": 171,
   "metadata": {},
   "outputs": [
    {
     "name": "stderr",
     "output_type": "stream",
     "text": [
      "C:\\Users\\frede_0021xgx\\AppData\\Local\\Temp\\ipykernel_12044\\1929883001.py:4: SettingWithCopyWarning: \n",
      "A value is trying to be set on a copy of a slice from a DataFrame.\n",
      "Try using .loc[row_indexer,col_indexer] = value instead\n",
      "\n",
      "See the caveats in the documentation: https://pandas.pydata.org/pandas-docs/stable/user_guide/indexing.html#returning-a-view-versus-a-copy\n",
      "  df['number_rooms'] = df['number_rooms'].apply(np.ceil)\n"
     ]
    },
    {
     "data": {
      "text/plain": [
       "array([3., 4., 2., 6., 5., 1., 0., 7., 8.])"
      ]
     },
     "execution_count": 171,
     "metadata": {},
     "output_type": "execute_result"
    }
   ],
   "source": [
    "#checking number_rooms\n",
    "df['number_rooms'].unique()\n",
    "#round up the float\n",
    "df['number_rooms'] = df['number_rooms'].apply(np.ceil)\n",
    "df['number_rooms'].unique()"
   ]
  },
  {
   "cell_type": "code",
   "execution_count": 172,
   "metadata": {},
   "outputs": [
    {
     "name": "stdout",
     "output_type": "stream",
     "text": [
      "<class 'pandas.core.frame.DataFrame'>\n",
      "Index: 16361 entries, 0 to 16471\n",
      "Data columns (total 19 columns):\n",
      " #   Column            Non-Null Count  Dtype  \n",
      "---  ------            --------------  -----  \n",
      " 0   region            16361 non-null  object \n",
      " 1   province          16361 non-null  object \n",
      " 2   zip_code          16361 non-null  int32  \n",
      " 3   property_type     16361 non-null  object \n",
      " 4   property_subtype  16361 non-null  object \n",
      " 5   price             16361 non-null  float64\n",
      " 6   number_rooms      16361 non-null  float64\n",
      " 7   living_area       16361 non-null  float64\n",
      " 8   kitchen           16361 non-null  object \n",
      " 9   furnished         16361 non-null  int64  \n",
      " 10  fireplace         16361 non-null  int64  \n",
      " 11  terrace           16361 non-null  int64  \n",
      " 12  terrace_area      16361 non-null  float64\n",
      " 13  garden            16361 non-null  int64  \n",
      " 14  garden_area       16361 non-null  float64\n",
      " 15  surface_land      16361 non-null  float64\n",
      " 16  number_facades    16361 non-null  float64\n",
      " 17  swimming_pool     16361 non-null  int64  \n",
      " 18  building_state    16361 non-null  object \n",
      "dtypes: float64(7), int32(1), int64(5), object(6)\n",
      "memory usage: 2.4+ MB\n"
     ]
    }
   ],
   "source": [
    "df.info()"
   ]
  },
  {
   "cell_type": "code",
   "execution_count": 222,
   "metadata": {},
   "outputs": [
    {
     "data": {
      "text/plain": [
       "['region',\n",
       " 'province',\n",
       " 'property_type',\n",
       " 'property_subtype',\n",
       " 'kitchen',\n",
       " 'building_state']"
      ]
     },
     "execution_count": 222,
     "metadata": {},
     "output_type": "execute_result"
    }
   ],
   "source": [
    "categorical_features=df.select_dtypes(include=object)\n",
    "numeric_features=df.select_dtypes(include=float)\n",
    "skip_features=df.select_dtypes(include=int)\n",
    "list(categorical_features.columns)"
   ]
  },
  {
   "cell_type": "code",
   "execution_count": 215,
   "metadata": {},
   "outputs": [
    {
     "name": "stdout",
     "output_type": "stream",
     "text": [
      "Shape of X:  (16361, 18)\n",
      "Shape of y:  (16361,)\n",
      "Shape of X_train:  (13088, 18)\n",
      "Shape of y_train:  (13088,)\n",
      "Shape of X_test:  (3273, 18)\n",
      "Shape of y_test:  (3273,)\n"
     ]
    }
   ],
   "source": [
    "# dividing the columns to prediction value and features\n",
    "X = df.drop(\"price\",axis=1)\n",
    "y = df.price\n",
    "# Shapes of X and y\n",
    "print(\"Shape of X: \", X.shape)\n",
    "print(\"Shape of y: \", y.shape)\n",
    "\n",
    "#Splitting the train and test sets\n",
    "X_train, X_test, y_train, y_test = train_test_split(X, y, test_size=0.2, random_state=40)\n",
    "# Shapes of diffrent train and test sets\n",
    "print(\"Shape of X_train: \", X_train.shape)\n",
    "print(\"Shape of y_train: \", y_train.shape)\n",
    "print(\"Shape of X_test: \", X_test.shape)\n",
    "print(\"Shape of y_test: \", y_test.shape)\n",
    "\n"
   ]
  },
  {
   "cell_type": "code",
   "execution_count": 223,
   "metadata": {},
   "outputs": [],
   "source": [
    "# first transformation for the pipeline which is OneHotEncoder\n",
    "trans_1 = ColumnTransformer([('encode',OneHotEncoder(dtype='int',sparse_output=False, handle_unknown='ignore'), \n",
    "                              list(categorical_features.columns))], remainder='passthrough' )\n"
   ]
  },
  {
   "cell_type": "code",
   "execution_count": 217,
   "metadata": {},
   "outputs": [],
   "source": [
    "# second transformation for the pipeline which is scaling\n",
    "trans_2 = ColumnTransformer([('scale', MinMaxScaler(), slice(0,18))], remainder='passthrough')"
   ]
  },
  {
   "cell_type": "code",
   "execution_count": 218,
   "metadata": {},
   "outputs": [],
   "source": [
    "# third transformation for the pipeline which is creating an instance from linear models\n",
    "trans_3 = LinearRegression()"
   ]
  },
  {
   "cell_type": "code",
   "execution_count": 224,
   "metadata": {},
   "outputs": [],
   "source": [
    "# creating a pipeline with above transformer\n",
    "pipe = Pipeline([('trans_1',trans_1),\n",
    "                 ('trans_2',trans_2),\n",
    "                 ('trans_3',trans_3),\n",
    "                ])"
   ]
  },
  {
   "cell_type": "code",
   "execution_count": 225,
   "metadata": {},
   "outputs": [
    {
     "data": {
      "text/html": [
       "<style>#sk-container-id-2 {color: black;}#sk-container-id-2 pre{padding: 0;}#sk-container-id-2 div.sk-toggleable {background-color: white;}#sk-container-id-2 label.sk-toggleable__label {cursor: pointer;display: block;width: 100%;margin-bottom: 0;padding: 0.3em;box-sizing: border-box;text-align: center;}#sk-container-id-2 label.sk-toggleable__label-arrow:before {content: \"▸\";float: left;margin-right: 0.25em;color: #696969;}#sk-container-id-2 label.sk-toggleable__label-arrow:hover:before {color: black;}#sk-container-id-2 div.sk-estimator:hover label.sk-toggleable__label-arrow:before {color: black;}#sk-container-id-2 div.sk-toggleable__content {max-height: 0;max-width: 0;overflow: hidden;text-align: left;background-color: #f0f8ff;}#sk-container-id-2 div.sk-toggleable__content pre {margin: 0.2em;color: black;border-radius: 0.25em;background-color: #f0f8ff;}#sk-container-id-2 input.sk-toggleable__control:checked~div.sk-toggleable__content {max-height: 200px;max-width: 100%;overflow: auto;}#sk-container-id-2 input.sk-toggleable__control:checked~label.sk-toggleable__label-arrow:before {content: \"▾\";}#sk-container-id-2 div.sk-estimator input.sk-toggleable__control:checked~label.sk-toggleable__label {background-color: #d4ebff;}#sk-container-id-2 div.sk-label input.sk-toggleable__control:checked~label.sk-toggleable__label {background-color: #d4ebff;}#sk-container-id-2 input.sk-hidden--visually {border: 0;clip: rect(1px 1px 1px 1px);clip: rect(1px, 1px, 1px, 1px);height: 1px;margin: -1px;overflow: hidden;padding: 0;position: absolute;width: 1px;}#sk-container-id-2 div.sk-estimator {font-family: monospace;background-color: #f0f8ff;border: 1px dotted black;border-radius: 0.25em;box-sizing: border-box;margin-bottom: 0.5em;}#sk-container-id-2 div.sk-estimator:hover {background-color: #d4ebff;}#sk-container-id-2 div.sk-parallel-item::after {content: \"\";width: 100%;border-bottom: 1px solid gray;flex-grow: 1;}#sk-container-id-2 div.sk-label:hover label.sk-toggleable__label {background-color: #d4ebff;}#sk-container-id-2 div.sk-serial::before {content: \"\";position: absolute;border-left: 1px solid gray;box-sizing: border-box;top: 0;bottom: 0;left: 50%;z-index: 0;}#sk-container-id-2 div.sk-serial {display: flex;flex-direction: column;align-items: center;background-color: white;padding-right: 0.2em;padding-left: 0.2em;position: relative;}#sk-container-id-2 div.sk-item {position: relative;z-index: 1;}#sk-container-id-2 div.sk-parallel {display: flex;align-items: stretch;justify-content: center;background-color: white;position: relative;}#sk-container-id-2 div.sk-item::before, #sk-container-id-2 div.sk-parallel-item::before {content: \"\";position: absolute;border-left: 1px solid gray;box-sizing: border-box;top: 0;bottom: 0;left: 50%;z-index: -1;}#sk-container-id-2 div.sk-parallel-item {display: flex;flex-direction: column;z-index: 1;position: relative;background-color: white;}#sk-container-id-2 div.sk-parallel-item:first-child::after {align-self: flex-end;width: 50%;}#sk-container-id-2 div.sk-parallel-item:last-child::after {align-self: flex-start;width: 50%;}#sk-container-id-2 div.sk-parallel-item:only-child::after {width: 0;}#sk-container-id-2 div.sk-dashed-wrapped {border: 1px dashed gray;margin: 0 0.4em 0.5em 0.4em;box-sizing: border-box;padding-bottom: 0.4em;background-color: white;}#sk-container-id-2 div.sk-label label {font-family: monospace;font-weight: bold;display: inline-block;line-height: 1.2em;}#sk-container-id-2 div.sk-label-container {text-align: center;}#sk-container-id-2 div.sk-container {/* jupyter's `normalize.less` sets `[hidden] { display: none; }` but bootstrap.min.css set `[hidden] { display: none !important; }` so we also need the `!important` here to be able to override the default hidden behavior on the sphinx rendered scikit-learn.org. See: https://github.com/scikit-learn/scikit-learn/issues/21755 */display: inline-block !important;position: relative;}#sk-container-id-2 div.sk-text-repr-fallback {display: none;}</style><div id=\"sk-container-id-2\" class=\"sk-top-container\"><div class=\"sk-text-repr-fallback\"><pre>Pipeline(steps=[(&#x27;trans_1&#x27;,\n",
       "                 ColumnTransformer(remainder=&#x27;passthrough&#x27;,\n",
       "                                   transformers=[(&#x27;encode&#x27;,\n",
       "                                                  OneHotEncoder(dtype=&#x27;int&#x27;,\n",
       "                                                                handle_unknown=&#x27;ignore&#x27;,\n",
       "                                                                sparse_output=False),\n",
       "                                                  [&#x27;region&#x27;, &#x27;province&#x27;,\n",
       "                                                   &#x27;property_type&#x27;,\n",
       "                                                   &#x27;property_subtype&#x27;,\n",
       "                                                   &#x27;kitchen&#x27;,\n",
       "                                                   &#x27;building_state&#x27;])])),\n",
       "                (&#x27;trans_2&#x27;,\n",
       "                 ColumnTransformer(remainder=&#x27;passthrough&#x27;,\n",
       "                                   transformers=[(&#x27;scale&#x27;, MinMaxScaler(),\n",
       "                                                  slice(0, 18, None))])),\n",
       "                (&#x27;trans_3&#x27;, LinearRegression())])</pre><b>In a Jupyter environment, please rerun this cell to show the HTML representation or trust the notebook. <br />On GitHub, the HTML representation is unable to render, please try loading this page with nbviewer.org.</b></div><div class=\"sk-container\" hidden><div class=\"sk-item sk-dashed-wrapped\"><div class=\"sk-label-container\"><div class=\"sk-label sk-toggleable\"><input class=\"sk-toggleable__control sk-hidden--visually\" id=\"sk-estimator-id-13\" type=\"checkbox\" ><label for=\"sk-estimator-id-13\" class=\"sk-toggleable__label sk-toggleable__label-arrow\">Pipeline</label><div class=\"sk-toggleable__content\"><pre>Pipeline(steps=[(&#x27;trans_1&#x27;,\n",
       "                 ColumnTransformer(remainder=&#x27;passthrough&#x27;,\n",
       "                                   transformers=[(&#x27;encode&#x27;,\n",
       "                                                  OneHotEncoder(dtype=&#x27;int&#x27;,\n",
       "                                                                handle_unknown=&#x27;ignore&#x27;,\n",
       "                                                                sparse_output=False),\n",
       "                                                  [&#x27;region&#x27;, &#x27;province&#x27;,\n",
       "                                                   &#x27;property_type&#x27;,\n",
       "                                                   &#x27;property_subtype&#x27;,\n",
       "                                                   &#x27;kitchen&#x27;,\n",
       "                                                   &#x27;building_state&#x27;])])),\n",
       "                (&#x27;trans_2&#x27;,\n",
       "                 ColumnTransformer(remainder=&#x27;passthrough&#x27;,\n",
       "                                   transformers=[(&#x27;scale&#x27;, MinMaxScaler(),\n",
       "                                                  slice(0, 18, None))])),\n",
       "                (&#x27;trans_3&#x27;, LinearRegression())])</pre></div></div></div><div class=\"sk-serial\"><div class=\"sk-item sk-dashed-wrapped\"><div class=\"sk-label-container\"><div class=\"sk-label sk-toggleable\"><input class=\"sk-toggleable__control sk-hidden--visually\" id=\"sk-estimator-id-14\" type=\"checkbox\" ><label for=\"sk-estimator-id-14\" class=\"sk-toggleable__label sk-toggleable__label-arrow\">trans_1: ColumnTransformer</label><div class=\"sk-toggleable__content\"><pre>ColumnTransformer(remainder=&#x27;passthrough&#x27;,\n",
       "                  transformers=[(&#x27;encode&#x27;,\n",
       "                                 OneHotEncoder(dtype=&#x27;int&#x27;,\n",
       "                                               handle_unknown=&#x27;ignore&#x27;,\n",
       "                                               sparse_output=False),\n",
       "                                 [&#x27;region&#x27;, &#x27;province&#x27;, &#x27;property_type&#x27;,\n",
       "                                  &#x27;property_subtype&#x27;, &#x27;kitchen&#x27;,\n",
       "                                  &#x27;building_state&#x27;])])</pre></div></div></div><div class=\"sk-parallel\"><div class=\"sk-parallel-item\"><div class=\"sk-item\"><div class=\"sk-label-container\"><div class=\"sk-label sk-toggleable\"><input class=\"sk-toggleable__control sk-hidden--visually\" id=\"sk-estimator-id-15\" type=\"checkbox\" ><label for=\"sk-estimator-id-15\" class=\"sk-toggleable__label sk-toggleable__label-arrow\">encode</label><div class=\"sk-toggleable__content\"><pre>[&#x27;region&#x27;, &#x27;province&#x27;, &#x27;property_type&#x27;, &#x27;property_subtype&#x27;, &#x27;kitchen&#x27;, &#x27;building_state&#x27;]</pre></div></div></div><div class=\"sk-serial\"><div class=\"sk-item\"><div class=\"sk-estimator sk-toggleable\"><input class=\"sk-toggleable__control sk-hidden--visually\" id=\"sk-estimator-id-16\" type=\"checkbox\" ><label for=\"sk-estimator-id-16\" class=\"sk-toggleable__label sk-toggleable__label-arrow\">OneHotEncoder</label><div class=\"sk-toggleable__content\"><pre>OneHotEncoder(dtype=&#x27;int&#x27;, handle_unknown=&#x27;ignore&#x27;, sparse_output=False)</pre></div></div></div></div></div></div><div class=\"sk-parallel-item\"><div class=\"sk-item\"><div class=\"sk-label-container\"><div class=\"sk-label sk-toggleable\"><input class=\"sk-toggleable__control sk-hidden--visually\" id=\"sk-estimator-id-17\" type=\"checkbox\" ><label for=\"sk-estimator-id-17\" class=\"sk-toggleable__label sk-toggleable__label-arrow\">remainder</label><div class=\"sk-toggleable__content\"><pre>[&#x27;zip_code&#x27;, &#x27;number_rooms&#x27;, &#x27;living_area&#x27;, &#x27;furnished&#x27;, &#x27;fireplace&#x27;, &#x27;terrace&#x27;, &#x27;terrace_area&#x27;, &#x27;garden&#x27;, &#x27;garden_area&#x27;, &#x27;surface_land&#x27;, &#x27;number_facades&#x27;, &#x27;swimming_pool&#x27;]</pre></div></div></div><div class=\"sk-serial\"><div class=\"sk-item\"><div class=\"sk-estimator sk-toggleable\"><input class=\"sk-toggleable__control sk-hidden--visually\" id=\"sk-estimator-id-18\" type=\"checkbox\" ><label for=\"sk-estimator-id-18\" class=\"sk-toggleable__label sk-toggleable__label-arrow\">passthrough</label><div class=\"sk-toggleable__content\"><pre>passthrough</pre></div></div></div></div></div></div></div></div><div class=\"sk-item sk-dashed-wrapped\"><div class=\"sk-label-container\"><div class=\"sk-label sk-toggleable\"><input class=\"sk-toggleable__control sk-hidden--visually\" id=\"sk-estimator-id-19\" type=\"checkbox\" ><label for=\"sk-estimator-id-19\" class=\"sk-toggleable__label sk-toggleable__label-arrow\">trans_2: ColumnTransformer</label><div class=\"sk-toggleable__content\"><pre>ColumnTransformer(remainder=&#x27;passthrough&#x27;,\n",
       "                  transformers=[(&#x27;scale&#x27;, MinMaxScaler(), slice(0, 18, None))])</pre></div></div></div><div class=\"sk-parallel\"><div class=\"sk-parallel-item\"><div class=\"sk-item\"><div class=\"sk-label-container\"><div class=\"sk-label sk-toggleable\"><input class=\"sk-toggleable__control sk-hidden--visually\" id=\"sk-estimator-id-20\" type=\"checkbox\" ><label for=\"sk-estimator-id-20\" class=\"sk-toggleable__label sk-toggleable__label-arrow\">scale</label><div class=\"sk-toggleable__content\"><pre>slice(0, 18, None)</pre></div></div></div><div class=\"sk-serial\"><div class=\"sk-item\"><div class=\"sk-estimator sk-toggleable\"><input class=\"sk-toggleable__control sk-hidden--visually\" id=\"sk-estimator-id-21\" type=\"checkbox\" ><label for=\"sk-estimator-id-21\" class=\"sk-toggleable__label sk-toggleable__label-arrow\">MinMaxScaler</label><div class=\"sk-toggleable__content\"><pre>MinMaxScaler()</pre></div></div></div></div></div></div><div class=\"sk-parallel-item\"><div class=\"sk-item\"><div class=\"sk-label-container\"><div class=\"sk-label sk-toggleable\"><input class=\"sk-toggleable__control sk-hidden--visually\" id=\"sk-estimator-id-22\" type=\"checkbox\" ><label for=\"sk-estimator-id-22\" class=\"sk-toggleable__label sk-toggleable__label-arrow\">remainder</label><div class=\"sk-toggleable__content\"><pre>[18, 19, 20, 21, 22, 23, 24, 25, 26, 27, 28, 29, 30, 31, 32, 33, 34, 35, 36, 37, 38, 39, 40, 41, 42, 43, 44, 45, 46, 47, 48, 49, 50, 51, 52, 53, 54, 55, 56, 57]</pre></div></div></div><div class=\"sk-serial\"><div class=\"sk-item\"><div class=\"sk-estimator sk-toggleable\"><input class=\"sk-toggleable__control sk-hidden--visually\" id=\"sk-estimator-id-23\" type=\"checkbox\" ><label for=\"sk-estimator-id-23\" class=\"sk-toggleable__label sk-toggleable__label-arrow\">passthrough</label><div class=\"sk-toggleable__content\"><pre>passthrough</pre></div></div></div></div></div></div></div></div><div class=\"sk-item\"><div class=\"sk-estimator sk-toggleable\"><input class=\"sk-toggleable__control sk-hidden--visually\" id=\"sk-estimator-id-24\" type=\"checkbox\" ><label for=\"sk-estimator-id-24\" class=\"sk-toggleable__label sk-toggleable__label-arrow\">LinearRegression</label><div class=\"sk-toggleable__content\"><pre>LinearRegression()</pre></div></div></div></div></div></div></div>"
      ],
      "text/plain": [
       "Pipeline(steps=[('trans_1',\n",
       "                 ColumnTransformer(remainder='passthrough',\n",
       "                                   transformers=[('encode',\n",
       "                                                  OneHotEncoder(dtype='int',\n",
       "                                                                handle_unknown='ignore',\n",
       "                                                                sparse_output=False),\n",
       "                                                  ['region', 'province',\n",
       "                                                   'property_type',\n",
       "                                                   'property_subtype',\n",
       "                                                   'kitchen',\n",
       "                                                   'building_state'])])),\n",
       "                ('trans_2',\n",
       "                 ColumnTransformer(remainder='passthrough',\n",
       "                                   transformers=[('scale', MinMaxScaler(),\n",
       "                                                  slice(0, 18, None))])),\n",
       "                ('trans_3', LinearRegression())])"
      ]
     },
     "execution_count": 225,
     "metadata": {},
     "output_type": "execute_result"
    }
   ],
   "source": [
    "# Training the model\n",
    "pipe.fit(X_train, y_train)"
   ]
  },
  {
   "cell_type": "code",
   "execution_count": 226,
   "metadata": {},
   "outputs": [
    {
     "data": {
      "text/plain": [
       "0.4884075232321744"
      ]
     },
     "execution_count": 226,
     "metadata": {},
     "output_type": "execute_result"
    }
   ],
   "source": [
    "# printing the score\n",
    "pipe.score(X_train, y_train)"
   ]
  },
  {
   "cell_type": "code",
   "execution_count": 229,
   "metadata": {},
   "outputs": [],
   "source": [
    "# predicting the test dataset\n",
    "y_pred = pipe.predict(X_test)"
   ]
  },
  {
   "cell_type": "code",
   "execution_count": 228,
   "metadata": {},
   "outputs": [
    {
     "data": {
      "text/plain": [
       "0.474193723819325"
      ]
     },
     "execution_count": 228,
     "metadata": {},
     "output_type": "execute_result"
    }
   ],
   "source": [
    "pipe.score(X_test, y_test)"
   ]
  }
 ],
 "metadata": {
  "kernelspec": {
   "display_name": "modelenv",
   "language": "python",
   "name": "python3"
  },
  "language_info": {
   "codemirror_mode": {
    "name": "ipython",
    "version": 3
   },
   "file_extension": ".py",
   "mimetype": "text/x-python",
   "name": "python",
   "nbconvert_exporter": "python",
   "pygments_lexer": "ipython3",
   "version": "3.11.4"
  },
  "orig_nbformat": 4
 },
 "nbformat": 4,
 "nbformat_minor": 2
}
