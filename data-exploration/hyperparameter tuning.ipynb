{
 "cells": [
  {
   "cell_type": "code",
   "execution_count": null,
   "metadata": {},
   "outputs": [],
   "source": [
    "#fix the problem of overfitting\n",
    "#method:split the tree at some poit\n",
    "    #1.get 2 hyperparameters-maximum depth of the tree and max_features\n",
    "params = {\n",
    "    'max_features' : np.arange(0.1,1,0.1).tolist(), #Number of features to consider as a fraction of all features\n",
    "    'max_depth': [1,2,4,8, None] # Depth of the tree\n",
    "}\n",
    "print(\"Parameters:\")\n",
    "for k,v in params.items():\n",
    "    print(\"{} : {}\".format(k,v))\n",
    "print()\n",
    "# Setting up the grid search that will test every combination of parameters\n",
    "gridsearch = GridSearchCV(estimator = d_reg,\n",
    "                        param_grid = params,\n",
    "                        scoring = 'accuracy', \n",
    "                        cv = 10, # Use 5 folds\n",
    "                        verbose = 1,\n",
    "                        n_jobs = -1 #Use all but one CPU core\n",
    "                        )\n",
    "# As we are doing cross-validation on the training set, the testing set X_test is untouched\n",
    "result = gridsearch.fit(X_train, y_train)\n",
    "print(\"The best parameters are :\", result.best_params_)\n",
    "print(\"The best accuracy is {:.2f}%:\".format(result.best_score_ * 100))\n",
    "\n",
    "# We can now use the testing set with the optimal hyper-parameters to get the final generalization accuracy\n",
    "d_reg = result.best_estimator_\n",
    "score = d_reg.score(X_test, y_test)\n",
    "print(\"The generalization accuracy of the model is {:.2f}%\".format(score * 100))"
   ]
  }
 ],
 "metadata": {
  "language_info": {
   "name": "python"
  },
  "orig_nbformat": 4
 },
 "nbformat": 4,
 "nbformat_minor": 2
}
